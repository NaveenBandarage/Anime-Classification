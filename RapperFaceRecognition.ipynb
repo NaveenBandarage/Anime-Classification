{
  "nbformat": 4,
  "nbformat_minor": 0,
  "metadata": {
    "colab": {
      "name": "RapperFaceRecognition.ipynb",
      "provenance": [],
      "collapsed_sections": [],
      "authorship_tag": "ABX9TyMZZ/fzjS8WLyC8CEeuhC28",
      "include_colab_link": true
    },
    "kernelspec": {
      "name": "python3",
      "display_name": "Python 3"
    },
    "accelerator": "GPU"
  },
  "cells": [
    {
      "cell_type": "markdown",
      "metadata": {
        "id": "view-in-github",
        "colab_type": "text"
      },
      "source": [
        "<a href=\"https://colab.research.google.com/github/NaveenBandarage/Rapper-Classification/blob/master/RapperFaceRecognition.ipynb\" target=\"_parent\"><img src=\"https://colab.research.google.com/assets/colab-badge.svg\" alt=\"Open In Colab\"/></a>"
      ]
    },
    {
      "cell_type": "code",
      "metadata": {
        "id": "qWfDgU10I7nr",
        "colab_type": "code",
        "colab": {}
      },
      "source": [
        "pip install face_recognition"
      ],
      "execution_count": 0,
      "outputs": []
    },
    {
      "cell_type": "code",
      "metadata": {
        "id": "txgnX9GIJcZH",
        "colab_type": "code",
        "colab": {
          "base_uri": "https://localhost:8080/",
          "height": 989
        },
        "outputId": "280f3f89-fb37-4656-89f1-38a9f1fdfa01"
      },
      "source": [
        "!mkdir knownFaces\n",
        "!wget https://vignette.wikia.nocookie.net/naruto/images/0/09/Naruto_newshot.png/revision/latest/scale-to-width-down/340?cb=20170621101134 -O knownFaces/Naruto.jpg\n",
        "!wget https://static.highsnobiety.com/thumbor/euzwQlGNnuR2yItDSHgp3SxJSC4=/fit-in/1200x720/smart/static.highsnobiety.com/wp-content/uploads/2020/02/21154056/travis-scott-pop-smoke-1.jpg -O knownFaces/Travis.jpg\n",
        "!wget https://eonlinethumbs-a.akamaihd.net/images/491/55/wochit_20200408_kylie_305868_560x315_1721877571950.jpg -O knownFaces/Kylie.jpg\n",
        "!wget https://lovelytab.com/wp-content/uploads/2018/11/travisscott-hero-1024x567.jpg -O knownFaces/Travis2.jpg\n",
        "!wget https://assets.vogue.com/photos/5de7fd65a982eb000ac8c20f/16:9/w_4112,h_2313,c_limit/travis-promo.jpg -O knownFaces/Travis3.jpg"
      ],
      "execution_count": 59,
      "outputs": [
        {
          "output_type": "stream",
          "text": [
            "mkdir: cannot create directory ‘knownFaces’: File exists\n",
            "--2020-05-31 10:58:11--  https://vignette.wikia.nocookie.net/naruto/images/0/09/Naruto_newshot.png/revision/latest/scale-to-width-down/340?cb=20170621101134\n",
            "Resolving vignette.wikia.nocookie.net (vignette.wikia.nocookie.net)... 74.120.184.204, 74.120.184.194\n",
            "Connecting to vignette.wikia.nocookie.net (vignette.wikia.nocookie.net)|74.120.184.204|:443... connected.\n",
            "HTTP request sent, awaiting response... 200 OK\n",
            "Length: 117380 (115K) [image/png]\n",
            "Saving to: ‘knownFaces/Naruto.jpg’\n",
            "\n",
            "knownFaces/Naruto.j 100%[===================>] 114.63K  --.-KB/s    in 0.07s   \n",
            "\n",
            "2020-05-31 10:58:11 (1.66 MB/s) - ‘knownFaces/Naruto.jpg’ saved [117380/117380]\n",
            "\n",
            "--2020-05-31 10:58:14--  https://static.highsnobiety.com/thumbor/euzwQlGNnuR2yItDSHgp3SxJSC4=/fit-in/1200x720/smart/static.highsnobiety.com/wp-content/uploads/2020/02/21154056/travis-scott-pop-smoke-1.jpg\n",
            "Resolving static.highsnobiety.com (static.highsnobiety.com)... 104.17.52.67, 104.17.53.67, 2606:4700::6811:3443, ...\n",
            "Connecting to static.highsnobiety.com (static.highsnobiety.com)|104.17.52.67|:443... connected.\n",
            "HTTP request sent, awaiting response... 200 OK\n",
            "Length: unspecified [image/jpeg]\n",
            "Saving to: ‘knownFaces/Travis.jpg’\n",
            "\n",
            "knownFaces/Travis.j     [ <=>                ]  43.78K  --.-KB/s    in 0s      \n",
            "\n",
            "2020-05-31 10:58:14 (102 MB/s) - ‘knownFaces/Travis.jpg’ saved [44831]\n",
            "\n",
            "--2020-05-31 10:58:16--  https://eonlinethumbs-a.akamaihd.net/images/491/55/wochit_20200408_kylie_305868_560x315_1721877571950.jpg\n",
            "Resolving eonlinethumbs-a.akamaihd.net (eonlinethumbs-a.akamaihd.net)... 23.59.190.49, 23.59.190.57\n",
            "Connecting to eonlinethumbs-a.akamaihd.net (eonlinethumbs-a.akamaihd.net)|23.59.190.49|:443... connected.\n",
            "HTTP request sent, awaiting response... 200 OK\n",
            "Length: 17254 (17K) [image/jpeg]\n",
            "Saving to: ‘knownFaces/Kylie.jpg’\n",
            "\n",
            "knownFaces/Kylie.jp 100%[===================>]  16.85K  --.-KB/s    in 0s      \n",
            "\n",
            "2020-05-31 10:58:16 (251 MB/s) - ‘knownFaces/Kylie.jpg’ saved [17254/17254]\n",
            "\n",
            "--2020-05-31 10:58:17--  https://lovelytab.com/wp-content/uploads/2018/11/travisscott-hero-1024x567.jpg\n",
            "Resolving lovelytab.com (lovelytab.com)... 104.31.88.251, 172.67.158.20, 104.31.89.251, ...\n",
            "Connecting to lovelytab.com (lovelytab.com)|104.31.88.251|:443... connected.\n",
            "HTTP request sent, awaiting response... 200 OK\n",
            "Length: 56833 (56K) [image/jpeg]\n",
            "Saving to: ‘knownFaces/Travis2.jpg’\n",
            "\n",
            "knownFaces/Travis2. 100%[===================>]  55.50K  --.-KB/s    in 0.007s  \n",
            "\n",
            "2020-05-31 10:58:17 (7.92 MB/s) - ‘knownFaces/Travis2.jpg’ saved [56833/56833]\n",
            "\n",
            "--2020-05-31 10:58:19--  https://assets.vogue.com/photos/5de7fd65a982eb000ac8c20f/16:9/w_4112,h_2313,c_limit/travis-promo.jpg\n",
            "Resolving assets.vogue.com (assets.vogue.com)... 151.101.0.239, 151.101.64.239, 151.101.128.239, ...\n",
            "Connecting to assets.vogue.com (assets.vogue.com)|151.101.0.239|:443... connected.\n",
            "HTTP request sent, awaiting response... 200 OK\n",
            "Length: 1626787 (1.6M) [image/jpeg]\n",
            "Saving to: ‘knownFaces/Travis3.jpg’\n",
            "\n",
            "knownFaces/Travis3. 100%[===================>]   1.55M  --.-KB/s    in 0.1s    \n",
            "\n",
            "2020-05-31 10:58:19 (14.8 MB/s) - ‘knownFaces/Travis3.jpg’ saved [1626787/1626787]\n",
            "\n"
          ],
          "name": "stdout"
        }
      ]
    },
    {
      "cell_type": "code",
      "metadata": {
        "id": "GKyjGJsmKuxy",
        "colab_type": "code",
        "colab": {}
      },
      "source": [
        "!mkdir unknownFaces\n",
        "!wget https://s1.narvii.com/image/wxqgkp4ztk7wikge4k33nl3hixtvwvit_hq.jpg -O unknownFaces/unknown1.jpg\n",
        "!wget https://nyppagesix.files.wordpress.com/2019/01/travis-scott.jpg -O unknownFaces/unknown2.jpg"
      ],
      "execution_count": 0,
      "outputs": []
    },
    {
      "cell_type": "code",
      "metadata": {
        "id": "Mvr9c0PdLA18",
        "colab_type": "code",
        "colab": {
          "base_uri": "https://localhost:8080/",
          "height": 34
        },
        "outputId": "55fbaecb-5e5f-4bc6-efb5-e4e876b2a4f8"
      },
      "source": [
        "import face_recognition\n",
        "import cv2\n",
        "import os\n",
        "from google.colab.patches import cv2_imshow\n",
        "\n",
        "def readImage(path):\n",
        "  img = cv2.imread(path)\n",
        "  (h, w) = img.shape[:2]\n",
        "  width = 400\n",
        "  ratio = width / float(w)\n",
        "  height = int(h * ratio)\n",
        "  return cv2.resize(img, (width, height))\n",
        "\n",
        "knownEncodings = []\n",
        "knownNames = []\n",
        "knownDir = 'knownFaces'\n",
        "\n",
        "#adding travis\n",
        "img = readImage('knownFaces/Travis.jpg')\n",
        "imgEncShit = face_recognition.face_encodings(img) #Because there is only one instance of that image\n",
        "knownEncodings.append(imgEnc)\n",
        "knownNames.append(file.split('.')[0])\n",
        "\n",
        "# adding kylie\n",
        "# knownEncodings.append(imgEnc)\n",
        "img = readImage('knownFaces/Kylie.jpg')\n",
        "kylieImage = face_recognition.face_encodings(img)[0] #\n",
        "knownEncodings.append(imgEnc)\n",
        "knownNames.append(file.split('.')[0])\n",
        "\n",
        "img = readImage('knownFaces/Travis2.jpg')\n",
        "Travis2 = face_recognition.face_encodings(img)[0] #\n",
        "knownEncodings.append(imgEnc)\n",
        "knownNames.append(file.split('.')[0])\n",
        "\n",
        "\n",
        "img = readImage('knownFaces/Travis3.jpg')\n",
        "Travis3 = face_recognition.face_encodings(img)[0] #\n",
        "knownEncodings.append(imgEnc)\n",
        "knownNames.append(file.split('.')[0])\n",
        "\n",
        "\n",
        "# knownEncodings\n",
        "uknownEncodings = []\n",
        "knownNames = []\n",
        "#For the unknown encodings\n",
        "img2 = readImage('unknownFaces/unknown2.jpg')\n",
        "travisScottGood = face_recognition.face_encodings(img2)[0] #Because there is only one instance of that image\n",
        "uknownEncodings.append(imgEncUnknown)\n",
        "\n",
        "\n",
        "results = face_recognition.compare_faces([Travis2, kylieImage, Travis3 ], travisScottGood)\n",
        "\n",
        "print(results)"
      ],
      "execution_count": 61,
      "outputs": [
        {
          "output_type": "stream",
          "text": [
            "[True, False, True]\n"
          ],
          "name": "stdout"
        }
      ]
    }
  ]
}